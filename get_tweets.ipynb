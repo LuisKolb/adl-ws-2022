{
 "cells": [
  {
   "cell_type": "code",
   "execution_count": null,
   "metadata": {},
   "outputs": [],
   "source": []
  }
 ],
 "metadata": {
  "kernelspec": {
   "display_name": "Python 3.8.10 ('.venv': venv)",
   "language": "python",
   "name": "python3"
  },
  "language_info": {
   "name": "python",
   "version": "3.8.10"
  },
  "orig_nbformat": 4,
  "vscode": {
   "interpreter": {
    "hash": "83fc053fe890623bea221a9a31d6461702982020ca8e24469068c77979ddefcc"
   }
  }
 },
 "nbformat": 4,
 "nbformat_minor": 2
}
